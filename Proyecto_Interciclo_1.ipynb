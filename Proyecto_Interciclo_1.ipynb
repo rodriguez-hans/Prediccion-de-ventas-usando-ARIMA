{
  "nbformat": 4,
  "nbformat_minor": 0,
  "metadata": {
    "colab": {
      "provenance": [],
      "collapsed_sections": []
    },
    "kernelspec": {
      "name": "python3",
      "display_name": "Python 3"
    },
    "language_info": {
      "name": "python"
    }
  },
  "cells": [
    {
      "cell_type": "markdown",
      "source": [
        "# Seccion preparatoria\n",
        "Instalamos los complementos, cargamos los dos Datasets y exportamos las librerias necesarias.\n",
        "\n",
        "DataSets necesarios\n",
        "https://drive.google.com/drive/folders/1MYhKkvSrkhMqUpBa7ldycwBl9zBBK4bb?usp=sharing"
      ],
      "metadata": {
        "id": "_Fz0s-Oc9GJS"
      }
    },
    {
      "cell_type": "markdown",
      "source": [
        "Importación de librerias necesarias para la ejecucción\n",
        "\n",
        "\n",
        "\n",
        "¿Qué es PMDArima?\n",
        "Proveniente de \"pyramid - arima\" es una libreria diseñada para el analisis de series temporales de python.\n",
        "\n",
        "**Entre sus funciones a aplicar en el proyecto están:**  \n",
        "• Colección de pruebas estadísticas  \n",
        "• Pipelines de Scikit-learn para estimadores   \n",
        "\n",
        "La cual la convierte en un módulo potente y hábil para nuestro proyecto."
      ],
      "metadata": {
        "id": "eh2y3u4gYF7w"
      }
    },
    {
      "cell_type": "code",
      "execution_count": null,
      "metadata": {
        "colab": {
          "base_uri": "https://localhost:8080/"
        },
        "id": "BFq4Te3t86n9",
        "outputId": "bc2ea03b-cc19-44ce-a564-47d2395158c9"
      },
      "outputs": [
        {
          "output_type": "stream",
          "name": "stdout",
          "text": [
            "Looking in indexes: https://pypi.org/simple, https://us-python.pkg.dev/colab-wheels/public/simple/\n",
            "Requirement already satisfied: pandas==1.2.0 in /usr/local/lib/python3.7/dist-packages (1.2.0)\n",
            "Requirement already satisfied: numpy>=1.16.5 in /usr/local/lib/python3.7/dist-packages (from pandas==1.2.0) (1.21.6)\n",
            "Requirement already satisfied: python-dateutil>=2.7.3 in /usr/local/lib/python3.7/dist-packages (from pandas==1.2.0) (2.8.2)\n",
            "Requirement already satisfied: pytz>=2017.3 in /usr/local/lib/python3.7/dist-packages (from pandas==1.2.0) (2022.1)\n",
            "Requirement already satisfied: six>=1.5 in /usr/local/lib/python3.7/dist-packages (from python-dateutil>=2.7.3->pandas==1.2.0) (1.15.0)\n",
            "Looking in indexes: https://pypi.org/simple, https://us-python.pkg.dev/colab-wheels/public/simple/\n",
            "Requirement already satisfied: xlrd in /usr/local/lib/python3.7/dist-packages (2.0.1)\n"
          ]
        }
      ],
      "source": [
        "!pip install pandas==1.2.0\n",
        "!pip install --upgrade xlrd\n",
        "!pip install pmdarima > /dev/null #linea para importar nuestro arima\n"
      ]
    },
    {
      "cell_type": "markdown",
      "source": [
        "Explicación de los datos en general:  \n",
        "  \n",
        "fecha: cada fecha de los artículos vendidos  \n",
        "date_block_num: este número se asigna a cada mes  \n",
        "shop_id: número único de cada tienda  \n",
        "item_id - número único de cada artículo  \n",
        "item_price - precio de cada artículo  \n",
        "item_cnt_day - número de artículos vendidos en un día en particular"
      ],
      "metadata": {
        "id": "EYWYc57DeTqc"
      }
    },
    {
      "cell_type": "code",
      "source": [
        "import numpy as np # linear algebra\n",
        "import pandas as pd # data processing\n",
        "import matplotlib.pyplot as plt\n",
        "import datetime #importacion de libreria datetime\n",
        "import pmdarima as pm # importacion de libreria pmd arima\n",
        "from pmdarima.arima import auto_arima # importacion de la funcion auto_arima\n",
        "\n",
        "\n",
        "filenameuno = \"sales_train.csv\"\n",
        "datostrain = pd.read_csv(filenameuno,header=0)\n",
        "#filenamedos = \"test.csv\"\n",
        "#datostest = pd.read_csv(filenamedos, header=0)\n",
        "#datostrain = pd.read_csv(filenameuno, error_bad_lines=False, header=0)     #linea alterna en caso de algún error de carga de datos, error \n",
        "#datostest = pd.read_csv(filenamedos, error_bad_lines=False, header=0)     #linea alterna en caso de algún error de carga de datos, error "
      ],
      "metadata": {
        "id": "N-QgK2mz-D6J",
        "outputId": "46227870-b503-4df5-c9d3-34c3e67201b1",
        "colab": {
          "base_uri": "https://localhost:8080/",
          "height": 373
        }
      },
      "execution_count": null,
      "outputs": [
        {
          "output_type": "error",
          "ename": "ModuleNotFoundError",
          "evalue": "ignored",
          "traceback": [
            "\u001b[0;31m---------------------------------------------------------------------------\u001b[0m",
            "\u001b[0;31mModuleNotFoundError\u001b[0m                       Traceback (most recent call last)",
            "\u001b[0;32m<ipython-input-2-d6f613b633c6>\u001b[0m in \u001b[0;36m<module>\u001b[0;34m\u001b[0m\n\u001b[1;32m      3\u001b[0m \u001b[0;32mimport\u001b[0m \u001b[0mmatplotlib\u001b[0m\u001b[0;34m.\u001b[0m\u001b[0mpyplot\u001b[0m \u001b[0;32mas\u001b[0m \u001b[0mplt\u001b[0m\u001b[0;34m\u001b[0m\u001b[0;34m\u001b[0m\u001b[0m\n\u001b[1;32m      4\u001b[0m \u001b[0;32mimport\u001b[0m \u001b[0mdatetime\u001b[0m \u001b[0;31m#importacion de libreria datetime\u001b[0m\u001b[0;34m\u001b[0m\u001b[0;34m\u001b[0m\u001b[0m\n\u001b[0;32m----> 5\u001b[0;31m \u001b[0;32mimport\u001b[0m \u001b[0mpmdarima\u001b[0m \u001b[0;32mas\u001b[0m \u001b[0mpm\u001b[0m \u001b[0;31m# importacion de libreria pmd arima\u001b[0m\u001b[0;34m\u001b[0m\u001b[0;34m\u001b[0m\u001b[0m\n\u001b[0m\u001b[1;32m      6\u001b[0m \u001b[0;32mfrom\u001b[0m \u001b[0mpmdarima\u001b[0m\u001b[0;34m.\u001b[0m\u001b[0marima\u001b[0m \u001b[0;32mimport\u001b[0m \u001b[0mauto_arima\u001b[0m \u001b[0;31m# importacion de la funcion auto_arima\u001b[0m\u001b[0;34m\u001b[0m\u001b[0;34m\u001b[0m\u001b[0m\n\u001b[1;32m      7\u001b[0m \u001b[0;34m\u001b[0m\u001b[0m\n",
            "\u001b[0;31mModuleNotFoundError\u001b[0m: No module named 'pmdarima'",
            "",
            "\u001b[0;31m---------------------------------------------------------------------------\u001b[0;32m\nNOTE: If your import is failing due to a missing package, you can\nmanually install dependencies using either !pip or !apt.\n\nTo view examples of installing some common dependencies, click the\n\"Open Examples\" button below.\n\u001b[0;31m---------------------------------------------------------------------------\u001b[0m\n"
          ],
          "errorDetails": {
            "actions": [
              {
                "action": "open_url",
                "actionText": "Open Examples",
                "url": "/notebooks/snippets/importing_libraries.ipynb"
              }
            ]
          }
        }
      ]
    },
    {
      "cell_type": "markdown",
      "source": [
        "Para este ejemplo en concreto se nos ha solicitado elegir una tienda de todas las implementadas en nuestro conjunto de datos, en este caso hemos decidido usar la 45, sin embargo esta pudo haber sido cualquiera"
      ],
      "metadata": {
        "id": "aByJzdSfatvy"
      }
    },
    {
      "cell_type": "code",
      "source": [
        "datostrain = datostrain.loc[datostrain['shop_id'] == 45] \n",
        "#datostest = datostest.loc[datostest['shop_id'] == 45] \n",
        "datostrain"
      ],
      "metadata": {
        "id": "o3ddDUkwoIQb",
        "colab": {
          "base_uri": "https://localhost:8080/",
          "height": 200
        },
        "outputId": "a947aa46-8d2b-4467-c52d-e605915dab2f"
      },
      "execution_count": null,
      "outputs": [
        {
          "output_type": "error",
          "ename": "NameError",
          "evalue": "ignored",
          "traceback": [
            "\u001b[0;31m---------------------------------------------------------------------------\u001b[0m",
            "\u001b[0;31mNameError\u001b[0m                                 Traceback (most recent call last)",
            "\u001b[0;32m<ipython-input-1-ae603947c37a>\u001b[0m in \u001b[0;36m<module>\u001b[0;34m\u001b[0m\n\u001b[0;32m----> 1\u001b[0;31m \u001b[0mdatostrain\u001b[0m \u001b[0;34m=\u001b[0m \u001b[0mdatostrain\u001b[0m\u001b[0;34m.\u001b[0m\u001b[0mloc\u001b[0m\u001b[0;34m[\u001b[0m\u001b[0mdatostrain\u001b[0m\u001b[0;34m[\u001b[0m\u001b[0;34m'shop_id'\u001b[0m\u001b[0;34m]\u001b[0m \u001b[0;34m==\u001b[0m \u001b[0;36m45\u001b[0m\u001b[0;34m]\u001b[0m\u001b[0;34m\u001b[0m\u001b[0;34m\u001b[0m\u001b[0m\n\u001b[0m\u001b[1;32m      2\u001b[0m \u001b[0;31m#datostest = datostest.loc[datostest['shop_id'] == 45]\u001b[0m\u001b[0;34m\u001b[0m\u001b[0;34m\u001b[0m\u001b[0;34m\u001b[0m\u001b[0m\n\u001b[1;32m      3\u001b[0m \u001b[0mdatostrain\u001b[0m\u001b[0;34m\u001b[0m\u001b[0;34m\u001b[0m\u001b[0m\n",
            "\u001b[0;31mNameError\u001b[0m: name 'datostrain' is not defined"
          ]
        }
      ]
    },
    {
      "cell_type": "markdown",
      "source": [
        "Aqui formatearemos dos columnas, en este caso a **date** le daremos un formato de dia, mes y año siendo datetime, mientras que a **month_year** le daremos como mes y año"
      ],
      "metadata": {
        "id": "wH_dcduFa61D"
      }
    },
    {
      "cell_type": "code",
      "source": [
        "datostrain['date']=datostrain['date'].apply(lambda x:datetime.datetime.strptime(x, '%d.%m.%Y'))\n",
        "datostrain['month_year'] = datostrain['date'].dt.to_period('M')\n",
        "datostrain.dtypes"
      ],
      "metadata": {
        "colab": {
          "base_uri": "https://localhost:8080/"
        },
        "id": "2olchmNUjsWz",
        "outputId": "da89ad82-2190-4172-af0c-29ba8e4aa7d0"
      },
      "execution_count": null,
      "outputs": [
        {
          "output_type": "execute_result",
          "data": {
            "text/plain": [
              "date              datetime64[ns]\n",
              "date_block_num             int64\n",
              "shop_id                    int64\n",
              "item_id                    int64\n",
              "item_price               float64\n",
              "item_cnt_day             float64\n",
              "month_year             period[M]\n",
              "dtype: object"
            ]
          },
          "metadata": {},
          "execution_count": 59
        }
      ]
    },
    {
      "cell_type": "code",
      "source": [
        "datostrain"
      ],
      "metadata": {
        "colab": {
          "base_uri": "https://localhost:8080/",
          "height": 424
        },
        "id": "vtwMRwThkuvr",
        "outputId": "a9eafad8-f424-4c60-ae33-3f8ed95650a3"
      },
      "execution_count": null,
      "outputs": [
        {
          "output_type": "execute_result",
          "data": {
            "text/plain": [
              "              date  date_block_num  shop_id  item_id  item_price  \\\n",
              "112221  2013-01-18               0       45     3718       349.0   \n",
              "112222  2013-01-04               0       45     3704      1499.0   \n",
              "112223  2013-01-26               0       45     3702       598.5   \n",
              "112224  2013-01-12               0       45     3702       599.0   \n",
              "112225  2013-01-04               0       45     3702       598.5   \n",
              "...            ...             ...      ...      ...         ...   \n",
              "2883113 2015-10-24              33       45     5821      1099.0   \n",
              "2883114 2015-10-11              33       45     5822      1149.0   \n",
              "2883115 2015-10-22              33       45     5822      1149.0   \n",
              "2883116 2015-10-23              33       45     5822      1149.0   \n",
              "2883117 2015-10-03              33       45     5830       549.0   \n",
              "\n",
              "         item_cnt_day month_year  \n",
              "112221            2.0    2013-01  \n",
              "112222            1.0    2013-01  \n",
              "112223            1.0    2013-01  \n",
              "112224            1.0    2013-01  \n",
              "112225            1.0    2013-01  \n",
              "...               ...        ...  \n",
              "2883113           1.0    2015-10  \n",
              "2883114           1.0    2015-10  \n",
              "2883115           1.0    2015-10  \n",
              "2883116           1.0    2015-10  \n",
              "2883117           1.0    2015-10  \n",
              "\n",
              "[35891 rows x 7 columns]"
            ],
            "text/html": [
              "\n",
              "  <div id=\"df-2081e67b-1c14-42ac-b092-0f3261c15cda\">\n",
              "    <div class=\"colab-df-container\">\n",
              "      <div>\n",
              "<style scoped>\n",
              "    .dataframe tbody tr th:only-of-type {\n",
              "        vertical-align: middle;\n",
              "    }\n",
              "\n",
              "    .dataframe tbody tr th {\n",
              "        vertical-align: top;\n",
              "    }\n",
              "\n",
              "    .dataframe thead th {\n",
              "        text-align: right;\n",
              "    }\n",
              "</style>\n",
              "<table border=\"1\" class=\"dataframe\">\n",
              "  <thead>\n",
              "    <tr style=\"text-align: right;\">\n",
              "      <th></th>\n",
              "      <th>date</th>\n",
              "      <th>date_block_num</th>\n",
              "      <th>shop_id</th>\n",
              "      <th>item_id</th>\n",
              "      <th>item_price</th>\n",
              "      <th>item_cnt_day</th>\n",
              "      <th>month_year</th>\n",
              "    </tr>\n",
              "  </thead>\n",
              "  <tbody>\n",
              "    <tr>\n",
              "      <th>112221</th>\n",
              "      <td>2013-01-18</td>\n",
              "      <td>0</td>\n",
              "      <td>45</td>\n",
              "      <td>3718</td>\n",
              "      <td>349.0</td>\n",
              "      <td>2.0</td>\n",
              "      <td>2013-01</td>\n",
              "    </tr>\n",
              "    <tr>\n",
              "      <th>112222</th>\n",
              "      <td>2013-01-04</td>\n",
              "      <td>0</td>\n",
              "      <td>45</td>\n",
              "      <td>3704</td>\n",
              "      <td>1499.0</td>\n",
              "      <td>1.0</td>\n",
              "      <td>2013-01</td>\n",
              "    </tr>\n",
              "    <tr>\n",
              "      <th>112223</th>\n",
              "      <td>2013-01-26</td>\n",
              "      <td>0</td>\n",
              "      <td>45</td>\n",
              "      <td>3702</td>\n",
              "      <td>598.5</td>\n",
              "      <td>1.0</td>\n",
              "      <td>2013-01</td>\n",
              "    </tr>\n",
              "    <tr>\n",
              "      <th>112224</th>\n",
              "      <td>2013-01-12</td>\n",
              "      <td>0</td>\n",
              "      <td>45</td>\n",
              "      <td>3702</td>\n",
              "      <td>599.0</td>\n",
              "      <td>1.0</td>\n",
              "      <td>2013-01</td>\n",
              "    </tr>\n",
              "    <tr>\n",
              "      <th>112225</th>\n",
              "      <td>2013-01-04</td>\n",
              "      <td>0</td>\n",
              "      <td>45</td>\n",
              "      <td>3702</td>\n",
              "      <td>598.5</td>\n",
              "      <td>1.0</td>\n",
              "      <td>2013-01</td>\n",
              "    </tr>\n",
              "    <tr>\n",
              "      <th>...</th>\n",
              "      <td>...</td>\n",
              "      <td>...</td>\n",
              "      <td>...</td>\n",
              "      <td>...</td>\n",
              "      <td>...</td>\n",
              "      <td>...</td>\n",
              "      <td>...</td>\n",
              "    </tr>\n",
              "    <tr>\n",
              "      <th>2883113</th>\n",
              "      <td>2015-10-24</td>\n",
              "      <td>33</td>\n",
              "      <td>45</td>\n",
              "      <td>5821</td>\n",
              "      <td>1099.0</td>\n",
              "      <td>1.0</td>\n",
              "      <td>2015-10</td>\n",
              "    </tr>\n",
              "    <tr>\n",
              "      <th>2883114</th>\n",
              "      <td>2015-10-11</td>\n",
              "      <td>33</td>\n",
              "      <td>45</td>\n",
              "      <td>5822</td>\n",
              "      <td>1149.0</td>\n",
              "      <td>1.0</td>\n",
              "      <td>2015-10</td>\n",
              "    </tr>\n",
              "    <tr>\n",
              "      <th>2883115</th>\n",
              "      <td>2015-10-22</td>\n",
              "      <td>33</td>\n",
              "      <td>45</td>\n",
              "      <td>5822</td>\n",
              "      <td>1149.0</td>\n",
              "      <td>1.0</td>\n",
              "      <td>2015-10</td>\n",
              "    </tr>\n",
              "    <tr>\n",
              "      <th>2883116</th>\n",
              "      <td>2015-10-23</td>\n",
              "      <td>33</td>\n",
              "      <td>45</td>\n",
              "      <td>5822</td>\n",
              "      <td>1149.0</td>\n",
              "      <td>1.0</td>\n",
              "      <td>2015-10</td>\n",
              "    </tr>\n",
              "    <tr>\n",
              "      <th>2883117</th>\n",
              "      <td>2015-10-03</td>\n",
              "      <td>33</td>\n",
              "      <td>45</td>\n",
              "      <td>5830</td>\n",
              "      <td>549.0</td>\n",
              "      <td>1.0</td>\n",
              "      <td>2015-10</td>\n",
              "    </tr>\n",
              "  </tbody>\n",
              "</table>\n",
              "<p>35891 rows × 7 columns</p>\n",
              "</div>\n",
              "      <button class=\"colab-df-convert\" onclick=\"convertToInteractive('df-2081e67b-1c14-42ac-b092-0f3261c15cda')\"\n",
              "              title=\"Convert this dataframe to an interactive table.\"\n",
              "              style=\"display:none;\">\n",
              "        \n",
              "  <svg xmlns=\"http://www.w3.org/2000/svg\" height=\"24px\"viewBox=\"0 0 24 24\"\n",
              "       width=\"24px\">\n",
              "    <path d=\"M0 0h24v24H0V0z\" fill=\"none\"/>\n",
              "    <path d=\"M18.56 5.44l.94 2.06.94-2.06 2.06-.94-2.06-.94-.94-2.06-.94 2.06-2.06.94zm-11 1L8.5 8.5l.94-2.06 2.06-.94-2.06-.94L8.5 2.5l-.94 2.06-2.06.94zm10 10l.94 2.06.94-2.06 2.06-.94-2.06-.94-.94-2.06-.94 2.06-2.06.94z\"/><path d=\"M17.41 7.96l-1.37-1.37c-.4-.4-.92-.59-1.43-.59-.52 0-1.04.2-1.43.59L10.3 9.45l-7.72 7.72c-.78.78-.78 2.05 0 2.83L4 21.41c.39.39.9.59 1.41.59.51 0 1.02-.2 1.41-.59l7.78-7.78 2.81-2.81c.8-.78.8-2.07 0-2.86zM5.41 20L4 18.59l7.72-7.72 1.47 1.35L5.41 20z\"/>\n",
              "  </svg>\n",
              "      </button>\n",
              "      \n",
              "  <style>\n",
              "    .colab-df-container {\n",
              "      display:flex;\n",
              "      flex-wrap:wrap;\n",
              "      gap: 12px;\n",
              "    }\n",
              "\n",
              "    .colab-df-convert {\n",
              "      background-color: #E8F0FE;\n",
              "      border: none;\n",
              "      border-radius: 50%;\n",
              "      cursor: pointer;\n",
              "      display: none;\n",
              "      fill: #1967D2;\n",
              "      height: 32px;\n",
              "      padding: 0 0 0 0;\n",
              "      width: 32px;\n",
              "    }\n",
              "\n",
              "    .colab-df-convert:hover {\n",
              "      background-color: #E2EBFA;\n",
              "      box-shadow: 0px 1px 2px rgba(60, 64, 67, 0.3), 0px 1px 3px 1px rgba(60, 64, 67, 0.15);\n",
              "      fill: #174EA6;\n",
              "    }\n",
              "\n",
              "    [theme=dark] .colab-df-convert {\n",
              "      background-color: #3B4455;\n",
              "      fill: #D2E3FC;\n",
              "    }\n",
              "\n",
              "    [theme=dark] .colab-df-convert:hover {\n",
              "      background-color: #434B5C;\n",
              "      box-shadow: 0px 1px 3px 1px rgba(0, 0, 0, 0.15);\n",
              "      filter: drop-shadow(0px 1px 2px rgba(0, 0, 0, 0.3));\n",
              "      fill: #FFFFFF;\n",
              "    }\n",
              "  </style>\n",
              "\n",
              "      <script>\n",
              "        const buttonEl =\n",
              "          document.querySelector('#df-2081e67b-1c14-42ac-b092-0f3261c15cda button.colab-df-convert');\n",
              "        buttonEl.style.display =\n",
              "          google.colab.kernel.accessAllowed ? 'block' : 'none';\n",
              "\n",
              "        async function convertToInteractive(key) {\n",
              "          const element = document.querySelector('#df-2081e67b-1c14-42ac-b092-0f3261c15cda');\n",
              "          const dataTable =\n",
              "            await google.colab.kernel.invokeFunction('convertToInteractive',\n",
              "                                                     [key], {});\n",
              "          if (!dataTable) return;\n",
              "\n",
              "          const docLinkHtml = 'Like what you see? Visit the ' +\n",
              "            '<a target=\"_blank\" href=https://colab.research.google.com/notebooks/data_table.ipynb>data table notebook</a>'\n",
              "            + ' to learn more about interactive tables.';\n",
              "          element.innerHTML = '';\n",
              "          dataTable['output_type'] = 'display_data';\n",
              "          await google.colab.output.renderOutput(dataTable, element);\n",
              "          const docLink = document.createElement('div');\n",
              "          docLink.innerHTML = docLinkHtml;\n",
              "          element.appendChild(docLink);\n",
              "        }\n",
              "      </script>\n",
              "    </div>\n",
              "  </div>\n",
              "  "
            ]
          },
          "metadata": {},
          "execution_count": 60
        }
      ]
    },
    {
      "cell_type": "markdown",
      "source": [
        "Sumarizamos todo el month_year x item_cnt_dat para luego resetear con el valor nuevo  \n",
        "Es decir un reemplazo, en vez de tratar de articulo vendido por día, será articulo vendido por mes"
      ],
      "metadata": {
        "id": "_yFABVRZdu8b"
      }
    },
    {
      "cell_type": "code",
      "source": [
        "grouped_df = datostrain.groupby(['month_year'])['month_year','item_cnt_day'].agg({'item_cnt_day':'sum'})\n",
        "grouped_df = grouped_df.reset_index()\n",
        "#grouped_df.set_index(['month_year'], inplace=True)\n",
        "grouped_df.rename(columns = {'item_cnt_day':'item_cnt_month'}, inplace = True)\n",
        "grouped_df"
      ],
      "metadata": {
        "colab": {
          "base_uri": "https://localhost:8080/",
          "height": 1000
        },
        "id": "Qk2Tw7TJlgBz",
        "outputId": "27903aa2-3e10-41ea-939f-fc4998a5948d"
      },
      "execution_count": null,
      "outputs": [
        {
          "output_type": "stream",
          "name": "stderr",
          "text": [
            "/usr/local/lib/python3.7/dist-packages/ipykernel_launcher.py:1: FutureWarning: Indexing with multiple keys (implicitly converted to a tuple of keys) will be deprecated, use a list instead.\n",
            "  \"\"\"Entry point for launching an IPython kernel.\n"
          ]
        },
        {
          "output_type": "execute_result",
          "data": {
            "text/plain": [
              "            item_cnt_month\n",
              "month_year                \n",
              "2013-01             1634.0\n",
              "2013-02             1530.0\n",
              "2013-03             1883.0\n",
              "2013-04             1253.0\n",
              "2013-05             1333.0\n",
              "2013-06             1785.0\n",
              "2013-07             1507.0\n",
              "2013-08             1649.0\n",
              "2013-09             1725.0\n",
              "2013-10             1593.0\n",
              "2013-11             1625.0\n",
              "2013-12             2091.0\n",
              "2014-01             1367.0\n",
              "2014-02             1279.0\n",
              "2014-03             1401.0\n",
              "2014-04             1015.0\n",
              "2014-05             1174.0\n",
              "2014-06             1305.0\n",
              "2014-07             1261.0\n",
              "2014-08             1255.0\n",
              "2014-09              992.0\n",
              "2014-10              933.0\n",
              "2014-11             1251.0\n",
              "2014-12             1551.0\n",
              "2015-01              980.0\n",
              "2015-02              796.0\n",
              "2015-03              740.0\n",
              "2015-04              862.0\n",
              "2015-05              762.0\n",
              "2015-06              622.0\n",
              "2015-07              675.0\n",
              "2015-08              710.0\n",
              "2015-09              654.0\n",
              "2015-10              702.0"
            ],
            "text/html": [
              "\n",
              "  <div id=\"df-3f39f2e4-3401-41bb-8ad2-561309fd18cd\">\n",
              "    <div class=\"colab-df-container\">\n",
              "      <div>\n",
              "<style scoped>\n",
              "    .dataframe tbody tr th:only-of-type {\n",
              "        vertical-align: middle;\n",
              "    }\n",
              "\n",
              "    .dataframe tbody tr th {\n",
              "        vertical-align: top;\n",
              "    }\n",
              "\n",
              "    .dataframe thead th {\n",
              "        text-align: right;\n",
              "    }\n",
              "</style>\n",
              "<table border=\"1\" class=\"dataframe\">\n",
              "  <thead>\n",
              "    <tr style=\"text-align: right;\">\n",
              "      <th></th>\n",
              "      <th>item_cnt_month</th>\n",
              "    </tr>\n",
              "    <tr>\n",
              "      <th>month_year</th>\n",
              "      <th></th>\n",
              "    </tr>\n",
              "  </thead>\n",
              "  <tbody>\n",
              "    <tr>\n",
              "      <th>2013-01</th>\n",
              "      <td>1634.0</td>\n",
              "    </tr>\n",
              "    <tr>\n",
              "      <th>2013-02</th>\n",
              "      <td>1530.0</td>\n",
              "    </tr>\n",
              "    <tr>\n",
              "      <th>2013-03</th>\n",
              "      <td>1883.0</td>\n",
              "    </tr>\n",
              "    <tr>\n",
              "      <th>2013-04</th>\n",
              "      <td>1253.0</td>\n",
              "    </tr>\n",
              "    <tr>\n",
              "      <th>2013-05</th>\n",
              "      <td>1333.0</td>\n",
              "    </tr>\n",
              "    <tr>\n",
              "      <th>2013-06</th>\n",
              "      <td>1785.0</td>\n",
              "    </tr>\n",
              "    <tr>\n",
              "      <th>2013-07</th>\n",
              "      <td>1507.0</td>\n",
              "    </tr>\n",
              "    <tr>\n",
              "      <th>2013-08</th>\n",
              "      <td>1649.0</td>\n",
              "    </tr>\n",
              "    <tr>\n",
              "      <th>2013-09</th>\n",
              "      <td>1725.0</td>\n",
              "    </tr>\n",
              "    <tr>\n",
              "      <th>2013-10</th>\n",
              "      <td>1593.0</td>\n",
              "    </tr>\n",
              "    <tr>\n",
              "      <th>2013-11</th>\n",
              "      <td>1625.0</td>\n",
              "    </tr>\n",
              "    <tr>\n",
              "      <th>2013-12</th>\n",
              "      <td>2091.0</td>\n",
              "    </tr>\n",
              "    <tr>\n",
              "      <th>2014-01</th>\n",
              "      <td>1367.0</td>\n",
              "    </tr>\n",
              "    <tr>\n",
              "      <th>2014-02</th>\n",
              "      <td>1279.0</td>\n",
              "    </tr>\n",
              "    <tr>\n",
              "      <th>2014-03</th>\n",
              "      <td>1401.0</td>\n",
              "    </tr>\n",
              "    <tr>\n",
              "      <th>2014-04</th>\n",
              "      <td>1015.0</td>\n",
              "    </tr>\n",
              "    <tr>\n",
              "      <th>2014-05</th>\n",
              "      <td>1174.0</td>\n",
              "    </tr>\n",
              "    <tr>\n",
              "      <th>2014-06</th>\n",
              "      <td>1305.0</td>\n",
              "    </tr>\n",
              "    <tr>\n",
              "      <th>2014-07</th>\n",
              "      <td>1261.0</td>\n",
              "    </tr>\n",
              "    <tr>\n",
              "      <th>2014-08</th>\n",
              "      <td>1255.0</td>\n",
              "    </tr>\n",
              "    <tr>\n",
              "      <th>2014-09</th>\n",
              "      <td>992.0</td>\n",
              "    </tr>\n",
              "    <tr>\n",
              "      <th>2014-10</th>\n",
              "      <td>933.0</td>\n",
              "    </tr>\n",
              "    <tr>\n",
              "      <th>2014-11</th>\n",
              "      <td>1251.0</td>\n",
              "    </tr>\n",
              "    <tr>\n",
              "      <th>2014-12</th>\n",
              "      <td>1551.0</td>\n",
              "    </tr>\n",
              "    <tr>\n",
              "      <th>2015-01</th>\n",
              "      <td>980.0</td>\n",
              "    </tr>\n",
              "    <tr>\n",
              "      <th>2015-02</th>\n",
              "      <td>796.0</td>\n",
              "    </tr>\n",
              "    <tr>\n",
              "      <th>2015-03</th>\n",
              "      <td>740.0</td>\n",
              "    </tr>\n",
              "    <tr>\n",
              "      <th>2015-04</th>\n",
              "      <td>862.0</td>\n",
              "    </tr>\n",
              "    <tr>\n",
              "      <th>2015-05</th>\n",
              "      <td>762.0</td>\n",
              "    </tr>\n",
              "    <tr>\n",
              "      <th>2015-06</th>\n",
              "      <td>622.0</td>\n",
              "    </tr>\n",
              "    <tr>\n",
              "      <th>2015-07</th>\n",
              "      <td>675.0</td>\n",
              "    </tr>\n",
              "    <tr>\n",
              "      <th>2015-08</th>\n",
              "      <td>710.0</td>\n",
              "    </tr>\n",
              "    <tr>\n",
              "      <th>2015-09</th>\n",
              "      <td>654.0</td>\n",
              "    </tr>\n",
              "    <tr>\n",
              "      <th>2015-10</th>\n",
              "      <td>702.0</td>\n",
              "    </tr>\n",
              "  </tbody>\n",
              "</table>\n",
              "</div>\n",
              "      <button class=\"colab-df-convert\" onclick=\"convertToInteractive('df-3f39f2e4-3401-41bb-8ad2-561309fd18cd')\"\n",
              "              title=\"Convert this dataframe to an interactive table.\"\n",
              "              style=\"display:none;\">\n",
              "        \n",
              "  <svg xmlns=\"http://www.w3.org/2000/svg\" height=\"24px\"viewBox=\"0 0 24 24\"\n",
              "       width=\"24px\">\n",
              "    <path d=\"M0 0h24v24H0V0z\" fill=\"none\"/>\n",
              "    <path d=\"M18.56 5.44l.94 2.06.94-2.06 2.06-.94-2.06-.94-.94-2.06-.94 2.06-2.06.94zm-11 1L8.5 8.5l.94-2.06 2.06-.94-2.06-.94L8.5 2.5l-.94 2.06-2.06.94zm10 10l.94 2.06.94-2.06 2.06-.94-2.06-.94-.94-2.06-.94 2.06-2.06.94z\"/><path d=\"M17.41 7.96l-1.37-1.37c-.4-.4-.92-.59-1.43-.59-.52 0-1.04.2-1.43.59L10.3 9.45l-7.72 7.72c-.78.78-.78 2.05 0 2.83L4 21.41c.39.39.9.59 1.41.59.51 0 1.02-.2 1.41-.59l7.78-7.78 2.81-2.81c.8-.78.8-2.07 0-2.86zM5.41 20L4 18.59l7.72-7.72 1.47 1.35L5.41 20z\"/>\n",
              "  </svg>\n",
              "      </button>\n",
              "      \n",
              "  <style>\n",
              "    .colab-df-container {\n",
              "      display:flex;\n",
              "      flex-wrap:wrap;\n",
              "      gap: 12px;\n",
              "    }\n",
              "\n",
              "    .colab-df-convert {\n",
              "      background-color: #E8F0FE;\n",
              "      border: none;\n",
              "      border-radius: 50%;\n",
              "      cursor: pointer;\n",
              "      display: none;\n",
              "      fill: #1967D2;\n",
              "      height: 32px;\n",
              "      padding: 0 0 0 0;\n",
              "      width: 32px;\n",
              "    }\n",
              "\n",
              "    .colab-df-convert:hover {\n",
              "      background-color: #E2EBFA;\n",
              "      box-shadow: 0px 1px 2px rgba(60, 64, 67, 0.3), 0px 1px 3px 1px rgba(60, 64, 67, 0.15);\n",
              "      fill: #174EA6;\n",
              "    }\n",
              "\n",
              "    [theme=dark] .colab-df-convert {\n",
              "      background-color: #3B4455;\n",
              "      fill: #D2E3FC;\n",
              "    }\n",
              "\n",
              "    [theme=dark] .colab-df-convert:hover {\n",
              "      background-color: #434B5C;\n",
              "      box-shadow: 0px 1px 3px 1px rgba(0, 0, 0, 0.15);\n",
              "      filter: drop-shadow(0px 1px 2px rgba(0, 0, 0, 0.3));\n",
              "      fill: #FFFFFF;\n",
              "    }\n",
              "  </style>\n",
              "\n",
              "      <script>\n",
              "        const buttonEl =\n",
              "          document.querySelector('#df-3f39f2e4-3401-41bb-8ad2-561309fd18cd button.colab-df-convert');\n",
              "        buttonEl.style.display =\n",
              "          google.colab.kernel.accessAllowed ? 'block' : 'none';\n",
              "\n",
              "        async function convertToInteractive(key) {\n",
              "          const element = document.querySelector('#df-3f39f2e4-3401-41bb-8ad2-561309fd18cd');\n",
              "          const dataTable =\n",
              "            await google.colab.kernel.invokeFunction('convertToInteractive',\n",
              "                                                     [key], {});\n",
              "          if (!dataTable) return;\n",
              "\n",
              "          const docLinkHtml = 'Like what you see? Visit the ' +\n",
              "            '<a target=\"_blank\" href=https://colab.research.google.com/notebooks/data_table.ipynb>data table notebook</a>'\n",
              "            + ' to learn more about interactive tables.';\n",
              "          element.innerHTML = '';\n",
              "          dataTable['output_type'] = 'display_data';\n",
              "          await google.colab.output.renderOutput(dataTable, element);\n",
              "          const docLink = document.createElement('div');\n",
              "          docLink.innerHTML = docLinkHtml;\n",
              "          element.appendChild(docLink);\n",
              "        }\n",
              "      </script>\n",
              "    </div>\n",
              "  </div>\n",
              "  "
            ]
          },
          "metadata": {},
          "execution_count": 61
        }
      ]
    },
    {
      "cell_type": "markdown",
      "source": [
        "#CREACION DE MODELO\n"
      ],
      "metadata": {
        "id": "9z5eEIBo3949"
      }
    },
    {
      "cell_type": "markdown",
      "source": [
        "A continuación, ¿cuáles son los términos 'p' y 'q'? 'p' es el orden del término 'Auto Regresivo' (AR). Se refiere al número de retrasos de Y que se utilizarán como predictores. Y 'q' es el orden del término 'promedio móvil' (MA). Se refiere a la cantidad de errores de pronóstico retrasados ​​que deben incluirse en el modelo ARIMA."
      ],
      "metadata": {
        "id": "_2gZku-73fou"
      }
    },
    {
      "cell_type": "markdown",
      "source": [
        "![imagen.png](data:image/png;base64,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)\n",
        "\n",
        "\n",
        "\n"
      ],
      "metadata": {
        "id": "9rHydRRw64jd"
      }
    },
    {
      "cell_type": "markdown",
      "source": [
        "Aqui haremos uso de la poderosa función autoarima  \n",
        "Tenemos los siguientes paso de parámetros:\n",
        "\n",
        "y=recibe nuestros datos\n",
        "\n",
        "m = El período de diferenciación estacional, m se refiere al número de períodos en cada estación. Por ejemplo, m es 4 para datos trimestrales, 12 para datos mensuales o 1 para datos anuales (no estacionales). "
      ],
      "metadata": {
        "id": "HD7Jpm_8uDnE"
      }
    },
    {
      "cell_type": "code",
      "source": [
        "model = auto_arima(y=grouped_df,m=12)"
      ],
      "metadata": {
        "id": "qVHjF2IKluHb"
      },
      "execution_count": null,
      "outputs": []
    },
    {
      "cell_type": "markdown",
      "source": [
        "Creación de la predicción"
      ],
      "metadata": {
        "id": "fM4k3wNyDcDr"
      }
    },
    {
      "cell_type": "code",
      "source": [
        "prediction, confint = model.predict(n_periods=12, return_conf_int=True)\n",
        "confint_df = pd.DataFrame(confint)\n",
        "prediction"
      ],
      "metadata": {
        "colab": {
          "base_uri": "https://localhost:8080/"
        },
        "id": "0CzZGhmpl0aK",
        "outputId": "f93c2991-bdda-4089-d51b-bde242774649"
      },
      "execution_count": null,
      "outputs": [
        {
          "output_type": "execute_result",
          "data": {
            "text/plain": [
              "array([ 828.13636364, 1128.13636364,  557.13636364,  373.13636364,\n",
              "        317.13636364,  439.13636364,  339.13636364,  199.13636364,\n",
              "        252.13636364,  287.13636364,  231.13636364,  279.13636364])"
            ]
          },
          "metadata": {},
          "execution_count": 63
        }
      ]
    },
    {
      "cell_type": "markdown",
      "source": [
        "Indice de predicción"
      ],
      "metadata": {
        "id": "7EApyggGExuK"
      }
    },
    {
      "cell_type": "code",
      "source": [
        "period_index = pd.period_range(\n",
        "    start = grouped_df.index[-1],\n",
        "    periods = 12,\n",
        "    freq='M'\n",
        ")\n",
        "predicted_df = pd.DataFrame({'value':prediction}, index=period_index)\n",
        "predicted_df"
      ],
      "metadata": {
        "colab": {
          "base_uri": "https://localhost:8080/",
          "height": 426
        },
        "id": "dtOVMasyl8Qj",
        "outputId": "fb6b4e11-14e0-4c7b-d612-90924e0b5675"
      },
      "execution_count": null,
      "outputs": [
        {
          "output_type": "execute_result",
          "data": {
            "text/plain": [
              "               value\n",
              "2015-10   828.136364\n",
              "2015-11  1128.136364\n",
              "2015-12   557.136364\n",
              "2016-01   373.136364\n",
              "2016-02   317.136364\n",
              "2016-03   439.136364\n",
              "2016-04   339.136364\n",
              "2016-05   199.136364\n",
              "2016-06   252.136364\n",
              "2016-07   287.136364\n",
              "2016-08   231.136364\n",
              "2016-09   279.136364"
            ],
            "text/html": [
              "\n",
              "  <div id=\"df-806ea82d-795c-4295-8f98-26f7d9ae6891\">\n",
              "    <div class=\"colab-df-container\">\n",
              "      <div>\n",
              "<style scoped>\n",
              "    .dataframe tbody tr th:only-of-type {\n",
              "        vertical-align: middle;\n",
              "    }\n",
              "\n",
              "    .dataframe tbody tr th {\n",
              "        vertical-align: top;\n",
              "    }\n",
              "\n",
              "    .dataframe thead th {\n",
              "        text-align: right;\n",
              "    }\n",
              "</style>\n",
              "<table border=\"1\" class=\"dataframe\">\n",
              "  <thead>\n",
              "    <tr style=\"text-align: right;\">\n",
              "      <th></th>\n",
              "      <th>value</th>\n",
              "    </tr>\n",
              "  </thead>\n",
              "  <tbody>\n",
              "    <tr>\n",
              "      <th>2015-10</th>\n",
              "      <td>828.136364</td>\n",
              "    </tr>\n",
              "    <tr>\n",
              "      <th>2015-11</th>\n",
              "      <td>1128.136364</td>\n",
              "    </tr>\n",
              "    <tr>\n",
              "      <th>2015-12</th>\n",
              "      <td>557.136364</td>\n",
              "    </tr>\n",
              "    <tr>\n",
              "      <th>2016-01</th>\n",
              "      <td>373.136364</td>\n",
              "    </tr>\n",
              "    <tr>\n",
              "      <th>2016-02</th>\n",
              "      <td>317.136364</td>\n",
              "    </tr>\n",
              "    <tr>\n",
              "      <th>2016-03</th>\n",
              "      <td>439.136364</td>\n",
              "    </tr>\n",
              "    <tr>\n",
              "      <th>2016-04</th>\n",
              "      <td>339.136364</td>\n",
              "    </tr>\n",
              "    <tr>\n",
              "      <th>2016-05</th>\n",
              "      <td>199.136364</td>\n",
              "    </tr>\n",
              "    <tr>\n",
              "      <th>2016-06</th>\n",
              "      <td>252.136364</td>\n",
              "    </tr>\n",
              "    <tr>\n",
              "      <th>2016-07</th>\n",
              "      <td>287.136364</td>\n",
              "    </tr>\n",
              "    <tr>\n",
              "      <th>2016-08</th>\n",
              "      <td>231.136364</td>\n",
              "    </tr>\n",
              "    <tr>\n",
              "      <th>2016-09</th>\n",
              "      <td>279.136364</td>\n",
              "    </tr>\n",
              "  </tbody>\n",
              "</table>\n",
              "</div>\n",
              "      <button class=\"colab-df-convert\" onclick=\"convertToInteractive('df-806ea82d-795c-4295-8f98-26f7d9ae6891')\"\n",
              "              title=\"Convert this dataframe to an interactive table.\"\n",
              "              style=\"display:none;\">\n",
              "        \n",
              "  <svg xmlns=\"http://www.w3.org/2000/svg\" height=\"24px\"viewBox=\"0 0 24 24\"\n",
              "       width=\"24px\">\n",
              "    <path d=\"M0 0h24v24H0V0z\" fill=\"none\"/>\n",
              "    <path d=\"M18.56 5.44l.94 2.06.94-2.06 2.06-.94-2.06-.94-.94-2.06-.94 2.06-2.06.94zm-11 1L8.5 8.5l.94-2.06 2.06-.94-2.06-.94L8.5 2.5l-.94 2.06-2.06.94zm10 10l.94 2.06.94-2.06 2.06-.94-2.06-.94-.94-2.06-.94 2.06-2.06.94z\"/><path d=\"M17.41 7.96l-1.37-1.37c-.4-.4-.92-.59-1.43-.59-.52 0-1.04.2-1.43.59L10.3 9.45l-7.72 7.72c-.78.78-.78 2.05 0 2.83L4 21.41c.39.39.9.59 1.41.59.51 0 1.02-.2 1.41-.59l7.78-7.78 2.81-2.81c.8-.78.8-2.07 0-2.86zM5.41 20L4 18.59l7.72-7.72 1.47 1.35L5.41 20z\"/>\n",
              "  </svg>\n",
              "      </button>\n",
              "      \n",
              "  <style>\n",
              "    .colab-df-container {\n",
              "      display:flex;\n",
              "      flex-wrap:wrap;\n",
              "      gap: 12px;\n",
              "    }\n",
              "\n",
              "    .colab-df-convert {\n",
              "      background-color: #E8F0FE;\n",
              "      border: none;\n",
              "      border-radius: 50%;\n",
              "      cursor: pointer;\n",
              "      display: none;\n",
              "      fill: #1967D2;\n",
              "      height: 32px;\n",
              "      padding: 0 0 0 0;\n",
              "      width: 32px;\n",
              "    }\n",
              "\n",
              "    .colab-df-convert:hover {\n",
              "      background-color: #E2EBFA;\n",
              "      box-shadow: 0px 1px 2px rgba(60, 64, 67, 0.3), 0px 1px 3px 1px rgba(60, 64, 67, 0.15);\n",
              "      fill: #174EA6;\n",
              "    }\n",
              "\n",
              "    [theme=dark] .colab-df-convert {\n",
              "      background-color: #3B4455;\n",
              "      fill: #D2E3FC;\n",
              "    }\n",
              "\n",
              "    [theme=dark] .colab-df-convert:hover {\n",
              "      background-color: #434B5C;\n",
              "      box-shadow: 0px 1px 3px 1px rgba(0, 0, 0, 0.15);\n",
              "      filter: drop-shadow(0px 1px 2px rgba(0, 0, 0, 0.3));\n",
              "      fill: #FFFFFF;\n",
              "    }\n",
              "  </style>\n",
              "\n",
              "      <script>\n",
              "        const buttonEl =\n",
              "          document.querySelector('#df-806ea82d-795c-4295-8f98-26f7d9ae6891 button.colab-df-convert');\n",
              "        buttonEl.style.display =\n",
              "          google.colab.kernel.accessAllowed ? 'block' : 'none';\n",
              "\n",
              "        async function convertToInteractive(key) {\n",
              "          const element = document.querySelector('#df-806ea82d-795c-4295-8f98-26f7d9ae6891');\n",
              "          const dataTable =\n",
              "            await google.colab.kernel.invokeFunction('convertToInteractive',\n",
              "                                                     [key], {});\n",
              "          if (!dataTable) return;\n",
              "\n",
              "          const docLinkHtml = 'Like what you see? Visit the ' +\n",
              "            '<a target=\"_blank\" href=https://colab.research.google.com/notebooks/data_table.ipynb>data table notebook</a>'\n",
              "            + ' to learn more about interactive tables.';\n",
              "          element.innerHTML = '';\n",
              "          dataTable['output_type'] = 'display_data';\n",
              "          await google.colab.output.renderOutput(dataTable, element);\n",
              "          const docLink = document.createElement('div');\n",
              "          docLink.innerHTML = docLinkHtml;\n",
              "          element.appendChild(docLink);\n",
              "        }\n",
              "      </script>\n",
              "    </div>\n",
              "  </div>\n",
              "  "
            ]
          },
          "metadata": {},
          "execution_count": 64
        }
      ]
    },
    {
      "cell_type": "code",
      "source": [
        "plt.figure(figsize=(8, 8))\n",
        "plt.plot(grouped_df.to_timestamp(),color='red', label='Ventas actuales')\n",
        "plt.plot(predicted_df.to_timestamp(), color='green', label='Predicción de ventas')\n",
        "plt.fill_between(period_index.to_timestamp(), confint_df[0], confint_df[1],color='grey',alpha=.2, label='Area de intervalo de aproximación')\n",
        "plt.legend()\n",
        "plt.show()"
      ],
      "metadata": {
        "colab": {
          "base_uri": "https://localhost:8080/",
          "height": 483
        },
        "id": "rcZjWUyBmAVL",
        "outputId": "27b58af9-7c07-4872-f944-4702eeb93704"
      },
      "execution_count": null,
      "outputs": [
        {
          "output_type": "display_data",
          "data": {
            "text/plain": [
              "<Figure size 576x576 with 1 Axes>"
            ],
            "image/png": "[encoded data removed]"
          },
          "metadata": {
            "needs_background": "light"
          }
        }
      ]
    },
    {
      "cell_type": "code",
      "source": [
        "print(f'Ventas ultimo mes: {round((predicted_df.values[0][0]),3)}')\n",
        "print(f'Ventas siguiente mes: {round(prediction[1],3)}')"
      ],
      "metadata": {
        "colab": {
          "base_uri": "https://localhost:8080/"
        },
        "id": "3EUdKcGymFop",
        "outputId": "01564c08-30ef-44d8-8504-5e408d84aa98"
      },
      "execution_count": null,
      "outputs": [
        {
          "output_type": "stream",
          "name": "stdout",
          "text": [
            "Ventas ultimo mes: 828.136\n",
            "Ventas siguiente mes: 1128.136\n"
          ]
        }
      ]
    },
    {
      "cell_type": "code",
      "source": [
        "print(model.summary())"
      ],
      "metadata": {
        "colab": {
          "base_uri": "https://localhost:8080/"
        },
        "id": "hxT_kJF4ly4i",
        "outputId": "4cbb3ac8-2aac-44cb-9a19-e8da5b86c26c"
      },
      "execution_count": null,
      "outputs": [
        {
          "output_type": "stream",
          "name": "stdout",
          "text": [
            "                                SARIMAX Results                                 \n",
            "================================================================================\n",
            "Dep. Variable:                        y   No. Observations:                   34\n",
            "Model:             SARIMAX(0, 1, 0, 12)   Log Likelihood                -144.495\n",
            "Date:                  Wed, 06 Jul 2022   AIC                            292.989\n",
            "Time:                          01:01:09   BIC                            295.171\n",
            "Sample:                               0   HQIC                           293.503\n",
            "                                   - 34                                         \n",
            "Covariance Type:                    opg                                         \n",
            "==============================================================================\n",
            "                 coef    std err          z      P>|z|      [0.025      0.975]\n",
            "------------------------------------------------------------------------------\n",
            "intercept   -422.8636     37.155    -11.381      0.000    -495.687    -350.041\n",
            "sigma2      2.967e+04   1.36e+04      2.182      0.029    3023.854    5.63e+04\n",
            "===================================================================================\n",
            "Ljung-Box (L1) (Q):                   0.52   Jarque-Bera (JB):                 1.21\n",
            "Prob(Q):                              0.47   Prob(JB):                         0.55\n",
            "Heteroskedasticity (H):               1.16   Skew:                            -0.14\n",
            "Prob(H) (two-sided):                  0.85   Kurtosis:                         1.89\n",
            "===================================================================================\n",
            "\n",
            "Warnings:\n",
            "[1] Covariance matrix calculated using the outer product of gradients (complex-step).\n"
          ]
        }
      ]
    }
  ]
}